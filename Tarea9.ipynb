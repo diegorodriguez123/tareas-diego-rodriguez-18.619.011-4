{
  "nbformat": 4,
  "nbformat_minor": 0,
  "metadata": {
    "colab": {
      "provenance": []
    },
    "kernelspec": {
      "name": "python3",
      "display_name": "Python 3"
    },
    "language_info": {
      "name": "python"
    }
  },
  "cells": [
    {
      "cell_type": "markdown",
      "metadata": {
        "id": "ypfI1-FBNjKu"
      },
      "source": [
        "### Tarea 9.4"
      ]
    },
    {
      "cell_type": "markdown",
      "metadata": {
        "id": "pnHh0NL1NjKu"
      },
      "source": [
        "Escriba un código que implemente el algoritmo de diferencias hacia atrás\n",
        "\n",
        "$$\n",
        "y_{i+1} - \\frac{18}{11}y_{i} + \\frac{9}{11}y_{i-1} - \\frac{2}{11}y_{i-2} = \\frac{6}{11}hf(t_{i+1}, y_{i+1})\n",
        "$$\n",
        "\n",
        "como este es un método implícito, es necesario implementar un método de Newton similar a lo hecho para la regla del trapecio.\n",
        "\n",
        "Aplique este algoritmo a la solución del problema visto en clase:"
      ]
    },
    {
      "cell_type": "markdown",
      "metadata": {
        "id": "cFUsuOKiNjKm"
      },
      "source": [
        "Solución: El problema visto en clases es:\n",
        "\n",
        "$$\n",
        "y'(t) = 5e^{5t}(y - t)^2 - 1\\,,\\quad 0\\leq t\\leq 1\\,,\\quad y(0) = -1\\,.\n",
        "$$\n",
        "\n",
        "Cuya solución es $y(t) = t - e^{-5t}$."
      ]
    },
    {
      "cell_type": "code",
      "source": [
        "import numpy as np\n",
        "\n",
        "# Definimos la función\n",
        "def funcion(t, y):\n",
        "    return (5*np.exp(5*t))*((y - t)**2) - 1\n",
        "\n",
        "# Implementamos el método de Newton\n",
        "def newton(y0, yi, yi1, yi2, t, h, tol=1e-6, N=100):\n",
        "    y = y0\n",
        "    for _ in range(N):\n",
        "        f = y - (18/11)*yi + (9/11)*yi1 - (2/11)*yi2 - (6/11)*h*funcion(t + h, y)\n",
        "        # Derivamos f con respecto a y\n",
        "        f_prima = 1 + (6/11)*h*(10*np.exp(5*(t + h))*(y - (t + h))**2 + 2*(y - (t + h))*np.exp(5*(t + h)))\n",
        "        y_nuevo = y - f/f_prima\n",
        "        if abs(y_nuevo - y) < tol:\n",
        "            return y_nuevo\n",
        "        y = y_nuevo\n",
        "\n",
        "    raise ValueError(\"El método no convergió\")\n",
        "\n",
        "# Ahora creamos el algoritmo de diferencias hacia atrás\n",
        "def diferencia_atras(t_final, h, y0):\n",
        "    t_valores = np.arange(0, t_final + h, h)\n",
        "    y_valores = np.zeros(len(t_valores))\n",
        "    y_valores[0] = y0\n",
        "    y_valores[1] = y0\n",
        "    y_valores[2] = y0\n",
        "    for i in range(2, len(t_valores) - 1):\n",
        "        t = t_valores[i]\n",
        "        yi = y_valores[i]\n",
        "        yi1 = y_valores[i-1]\n",
        "        yi2 = y_valores[i-2]\n",
        "\n",
        "        # Usamos el método de Newton para obtener y_{i+1}\n",
        "        y_siguiente = newton(y0, yi, yi1, yi2, t, h)\n",
        "        y_valores[i+1] = y_siguiente\n",
        "\n",
        "    return t_valores, y_valores\n",
        "\n",
        "\n",
        "# Se guardan los valores de t y de y(t)\n",
        "t_val, y_val = diferencia_atras(1, 0.01, -1)\n",
        "\n",
        "for i in range(len(t_val)):\n",
        "  print(f'En t:{t_val[i]}, y es igual a {y_val[i]}')"
      ],
      "metadata": {
        "colab": {
          "base_uri": "https://localhost:8080/"
        },
        "id": "0k4nVwPVD3bA",
        "outputId": "88d8f774-f298-4107-f6fc-387a665d15ba"
      },
      "execution_count": 19,
      "outputs": [
        {
          "output_type": "stream",
          "name": "stdout",
          "text": [
            "En t:0.0, y es igual a -1.0\n",
            "En t:0.01, y es igual a -1.0\n",
            "En t:0.02, y es igual a -1.0\n",
            "En t:0.03, y es igual a -0.9735432162230546\n",
            "En t:0.04, y es igual a -0.9307695711699192\n",
            "En t:0.05, y es igual a -0.8833109823196267\n",
            "En t:0.06, y es igual a -0.8367378111733373\n",
            "En t:0.07, y es igual a -0.7923998663767532\n",
            "En t:0.08, y es igual a -0.7500735643001246\n",
            "En t:0.09, y es igual a -0.7093265177307095\n",
            "En t:0.1, y es igual a -0.669894311883494\n",
            "En t:0.11, y es igual a -0.6316624123345995\n",
            "En t:0.12, y es igual a -0.5945818773437226\n",
            "En t:0.13, y es igual a -0.5586180842194054\n",
            "En t:0.14, y es igual a -0.5237336901260806\n",
            "En t:0.15, y es igual a -0.4898874756933191\n",
            "En t:0.16, y es igual a -0.45703685867548416\n",
            "En t:0.17, y es igual a -0.4251398757855227\n",
            "En t:0.18, y es igual a -0.3941558914765623\n",
            "En t:0.19, y es igual a -0.3640457104888455\n",
            "En t:0.2, y es igual a -0.3347715149077984\n",
            "En t:0.21, y es igual a -0.3062968000806826\n",
            "En t:0.22, y es igual a -0.2785863416276683\n",
            "En t:0.23, y es igual a -0.25160618094503107\n",
            "En t:0.24, y es igual a -0.22532361493806147\n",
            "En t:0.25, y es igual a -0.1997071833320696\n",
            "En t:0.26, y es igual a -0.17472672827274163\n",
            "En t:0.27, y es igual a -0.1503532106275532\n",
            "En t:0.28, y es igual a -0.12655876988512568\n",
            "En t:0.29, y es igual a -0.10331672028217731\n",
            "En t:0.3, y es igual a -0.08060152238644583\n",
            "En t:0.31, y es igual a -0.058388750432493794\n",
            "En t:0.32, y es igual a -0.03665506109067302\n",
            "En t:0.33, y es igual a -0.015378163489543474\n",
            "En t:0.34, y es igual a 0.005463210661685024\n",
            "En t:0.35000000000000003, y es igual a 0.025889337496454567\n",
            "En t:0.36, y es igual a 0.04591962524095282\n",
            "En t:0.37, y es igual a 0.06557243830160556\n",
            "En t:0.38, y es igual a 0.08486523702595682\n",
            "En t:0.39, y es igual a 0.10381463572889162\n",
            "En t:0.4, y es igual a 0.1224364306948832\n",
            "En t:0.41000000000000003, y es igual a 0.14074562472457386\n",
            "En t:0.42, y es igual a 0.15875645534046207\n",
            "En t:0.43, y es igual a 0.17648242597640598\n",
            "En t:0.44, y es igual a 0.1939363382289768\n",
            "En t:0.45, y es igual a 0.2111303239847923\n",
            "En t:0.46, y es igual a 0.2280758769731449\n",
            "En t:0.47000000000000003, y es igual a 0.2447837465514268\n",
            "En t:0.48, y es igual a 0.26126428627978\n",
            "En t:0.49, y es igual a 0.277527311132158\n",
            "En t:0.5, y es igual a 0.29358208665493796\n",
            "En t:0.51, y es igual a 0.3094373658369606\n",
            "En t:0.52, y es igual a 0.32510143017859755\n",
            "En t:0.53, y es igual a 0.3405821232920152\n",
            "En t:0.54, y es igual a 0.35588687818081943\n",
            "En t:0.55, y es igual a 0.3710227413507281\n",
            "En t:0.56, y es igual a 0.3859963956184971\n",
            "En t:0.5700000000000001, y es igual a 0.4008141822351633\n",
            "En t:0.58, y es igual a 0.415482122388209\n",
            "En t:0.59, y es igual a 0.4300059380555781\n",
            "En t:0.6, y es igual a 0.44439107225314095\n",
            "En t:0.61, y es igual a 0.4586426696291845\n",
            "En t:0.62, y es igual a 0.47276573730671206\n",
            "En t:0.63, y es igual a 0.48676473033885886\n",
            "En t:0.64, y es igual a 0.5006440726631028\n",
            "En t:0.65, y es igual a 0.5144080243788672\n",
            "En t:0.66, y es igual a 0.5280609368506652\n",
            "En t:0.67, y es igual a 0.5416066329629304\n",
            "En t:0.68, y es igual a 0.5550487286473281\n",
            "En t:0.6900000000000001, y es igual a 0.5683904805311426\n",
            "En t:0.7000000000000001, y es igual a 0.5816353277436742\n",
            "En t:0.71, y es igual a 0.5947865973031538\n",
            "En t:0.72, y es igual a 0.6078474291389273\n",
            "En t:0.73, y es igual a 0.620821055510928\n",
            "En t:0.74, y es igual a 0.6337102307846502\n",
            "En t:0.75, y es igual a 0.6465175797423495\n",
            "En t:0.76, y es igual a 0.6592456835376888\n",
            "En t:0.77, y es igual a 0.6718970625993526\n",
            "En t:0.78, y es igual a 0.6844741483518733\n",
            "En t:0.79, y es igual a 0.6969792704890766\n",
            "En t:0.8, y es igual a 0.7094146576133635\n",
            "En t:0.81, y es igual a 0.7217824441432485\n",
            "En t:0.8200000000000001, y es igual a 0.7340846795135637\n",
            "En t:0.8300000000000001, y es igual a 0.74632324537948\n",
            "En t:0.84, y es igual a 0.7585002166954998\n",
            "En t:0.85, y es igual a 0.7706179015003597\n",
            "En t:0.86, y es igual a 0.782678001670113\n",
            "En t:0.87, y es igual a 0.7946820677763914\n",
            "En t:0.88, y es igual a 0.8066316367749433\n",
            "En t:0.89, y es igual a 0.8185282108213663\n",
            "En t:0.9, y es igual a 0.8303734101341376\n",
            "En t:0.91, y es igual a 0.8421687898829161\n",
            "En t:0.92, y es igual a 0.8539154527284712\n",
            "En t:0.93, y es igual a 0.8656155876313243\n",
            "En t:0.9400000000000001, y es igual a 0.8772700599744274\n",
            "En t:0.9500000000000001, y es igual a 0.8888801577485204\n",
            "En t:0.96, y es igual a 0.900447812114987\n",
            "En t:0.97, y es igual a 0.9119739801292348\n",
            "En t:0.98, y es igual a 0.9234591355562235\n",
            "En t:0.99, y es igual a 0.9349046056632255\n",
            "En t:1.0, y es igual a 0.9463123454215545\n"
          ]
        }
      ]
    }
  ]
}