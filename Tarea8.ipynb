{
  "nbformat": 4,
  "nbformat_minor": 0,
  "metadata": {
    "colab": {
      "provenance": []
    },
    "kernelspec": {
      "name": "python3",
      "display_name": "Python 3"
    },
    "language_info": {
      "name": "python"
    }
  },
  "cells": [
    {
      "cell_type": "markdown",
      "metadata": {
        "id": "HZAVXPepbnid"
      },
      "source": [
        "### Tarea 8.3"
      ]
    },
    {
      "cell_type": "markdown",
      "metadata": {
        "id": "C5fCLWz0bnid"
      },
      "source": [
        "Modifique el método de Runge-Kutta-Fehlberg para quedarse con la solución de orden 5 en vez de la solución de orden 4. La solución de orden 5 está dada por\n",
        "\n",
        "$$\n",
        "w_{i+1} = w_i + \\frac{16}{135}k_1 + \\frac{6656}{12825}k_3 + \\frac{28561}{56430}k_4 - \\frac{9}{50}k_5 + \\frac{2}{55}k_6\n",
        "$$\n",
        "\n",
        "Úselo para resolver el siguiente problema de valor inicial con una tolerancia de $10^{-6}$\n",
        "\n",
        "$$\n",
        "y'(t) = \\frac{2 - 2ty}{t^2 + 1}\\,,\\quad 0\\leq t\\leq 3\\,,\\quad y(0) = 1\\,,\n",
        "$$\n",
        "\n",
        "que tiene una solución exacta $y(t) = (2t + 1)/(t^2 + 1)$. Compare con el método usual y discuta por qué se usa la solución de orden 4."
      ]
    },
    {
      "cell_type": "code",
      "source": [
        "import numpy as np\n",
        "import matplotlib.pyplot as plt\n",
        "\n",
        "class MinStep(Exception):\n",
        "    pass\n",
        "\n",
        "def rkf4(f, a, b, yo, tol, hmin, hmax): #Método de Runge-Kutta-Fehlberg de orden 4. Esta función fue obtenida de la Clase16\n",
        "\n",
        "    t = a\n",
        "    w = yo\n",
        "    h = hmax\n",
        "    flag = 1\n",
        "    evaluaciones = 0\n",
        "\n",
        "    ts = [t]\n",
        "    sol = [w]\n",
        "    hs = []\n",
        "    rs = []\n",
        "\n",
        "    while flag:\n",
        "\n",
        "        # Evaluaciones de la función\n",
        "        k1 = h*f(t, w)\n",
        "        k2 = h*f(t + h/4, w + k1/4)\n",
        "        k3 = h*f(t + 3*h/8, w + 3*k1/32 + 9*k2/32)\n",
        "        k4 = h*f(t + 12*h/13, w + 1932*k1/2197 - 7200*k2/2197 + 7296*k3/2197)\n",
        "        k5 = h*f(t + h, w + 439*k1/216 - 8*k2 + 3680*k3/513 - 845*k4/4104)\n",
        "        k6 = h*f(t + h/2, w - 8*k1/27 + 2*k2 - 3544*k3/2565 + 1859*k4/4104 - 11*k5/40)\n",
        "        evaluaciones += 6\n",
        "\n",
        "        # Estima del error dada por la diferencia entre dos RKs\n",
        "        R = abs(k1/360 - 128*k3/4275 - 2197*k4/75240 + k5/50 + 2*k6/55)\n",
        "\n",
        "        # Si el error es menor que la tolerancia, se acepta el paso\n",
        "        if R <= tol:\n",
        "            t += h\n",
        "            w = w + 25*k1/216 + 1408*k3/2565 + 2197*k4/4104 - k5/5\n",
        "            ts.append(t)\n",
        "            sol.append(w)\n",
        "            hs.append(h)\n",
        "            rs.append(R)\n",
        "\n",
        "        # el 0.84 es un factor para hacer la estima más conservadora\n",
        "        # corresponde a 1/2**(1/4)\n",
        "        q = 0.84*(tol/R)**(1/4)\n",
        "\n",
        "        # ACTUALIZACIÓN DE h\n",
        "        # Se establece un q mínimo para no quedarse atrapado en alguna región.\n",
        "        # Esto se puede cambiar.\n",
        "        if q <= 0.1:\n",
        "            h = 0.1*h\n",
        "        # Se establece también un q máximo para no peder detalles de la función\n",
        "        elif q >= 4:\n",
        "            h = 4*h\n",
        "        else:\n",
        "            h = q*h\n",
        "        if h > hmax:\n",
        "            h = hmax\n",
        "\n",
        "        # Si nos pasamos de b, terminamos\n",
        "        if t >= b:\n",
        "            flag = 0\n",
        "        # El último paso debe llegar a b\n",
        "        elif t + h > b:\n",
        "            h = b - t\n",
        "        elif h < hmin:\n",
        "            raise MinStep('Se excedió el paso mínimo.')\n",
        "\n",
        "    return np.array(ts), np.array(sol), np.array(hs), np.array(rs), evaluaciones\n",
        "\n",
        "\n",
        "def rkf5(f, a, b, yo, tol, hmin, hmax): #Método de Runge-Kutta-Fehlberg de orden 5\n",
        "\n",
        "    t = a\n",
        "    w = yo\n",
        "    h = hmax\n",
        "    flag = 1\n",
        "    evaluaciones = 0\n",
        "\n",
        "    ts = [t]\n",
        "    sol = [w]\n",
        "    hs = []\n",
        "    rs = []\n",
        "\n",
        "    while flag:\n",
        "\n",
        "        # Evaluaciones de la función\n",
        "        k1 = h*f(t, w)\n",
        "        k2 = h*f(t + h/4, w + k1/4)\n",
        "        k3 = h*f(t + 3*h/8, w + 3*k1/32 + 9*k2/32)\n",
        "        k4 = h*f(t + 12*h/13, w + 1932*k1/2197 - 7200*k2/2197 + 7296*k3/2197)\n",
        "        k5 = h*f(t + h, w + 439*k1/216 - 8*k2 + 3680*k3/513 - 845*k4/4104)\n",
        "        k6 = h*f(t + h/2, w - 8*k1/27 + 2*k2 - 3544*k3/2565 + 1859*k4/4104 - 11*k5/40)\n",
        "        evaluaciones += 6\n",
        "\n",
        "        # Estima del error dada por la diferencia entre dos RKs\n",
        "        R = abs(k1/360 - 128*k3/4275 - 2197*k4/75240 + k5/50 + 2*k6/55)\n",
        "\n",
        "        # Si el error es menor que la tolerancia, se acepta el paso\n",
        "        if R <= tol:\n",
        "            t += h\n",
        "            w = w + 16*k1/135 + 6656*k3/12825 + 28561*k4/56403 - 9*k5/50 + 2*k6/55 #Esta es la solución de orden 5\n",
        "            ts.append(t)\n",
        "            sol.append(w)\n",
        "            hs.append(h)\n",
        "            rs.append(R)\n",
        "\n",
        "        # el 0.84 es un factor para hacer la estima más conservadora\n",
        "        # corresponde a 1/2**(1/4)\n",
        "        q = 0.84*(tol/R)**(1/4)\n",
        "\n",
        "        # ACTUALIZACIÓN DE h\n",
        "        # Se establece un q mínimo para no quedarse atrapado en alguna región.\n",
        "        # Esto se puede cambiar.\n",
        "        if q <= 0.1:\n",
        "            h = 0.1*h\n",
        "        # Se establece también un q máximo para no peder detalles de la función\n",
        "        elif q >= 4:\n",
        "            h = 4*h\n",
        "        else:\n",
        "            h = q*h\n",
        "        if h > hmax:\n",
        "            h = hmax\n",
        "\n",
        "        # Si nos pasamos de b, terminamos\n",
        "        if t >= b:\n",
        "            flag = 0\n",
        "        # El último paso debe llegar a b\n",
        "        elif t + h > b:\n",
        "            h = b - t\n",
        "        elif h < hmin:\n",
        "            raise MinStep('Se excedió el paso mínimo.')\n",
        "\n",
        "    return np.array(ts), np.array(sol), np.array(hs), np.array(rs), evaluaciones"
      ],
      "metadata": {
        "id": "DK29f88RlYHm"
      },
      "execution_count": 25,
      "outputs": []
    },
    {
      "cell_type": "code",
      "source": [
        "def f(t, y): #Función de la ecuación diferencial\n",
        "    return (2 - 2*t*y)/(t**2 + 1)\n",
        "\n",
        "ts_rkf4, sol_rkf4, hs_rkf4, rs_rkf4, ev4 = rkf4(f, 0, 3, 1, 1e-6, 0.01, 0.25) #Aquí se guardan los arreglos para la solución de orden 4\n",
        "ts_rkf5, sol_rkf5, hs_rkf5, rs_rkf5, ev5 = rkf5(f, 0, 3, 1, 1e-6, 0.01, 0.25) #Aquí se guardan los arreglos para la solución de orden 5\n",
        "exacta_rkf4 = (2*ts_rkf4 + 1)/((ts_rkf4)**2 + 1) #Solución exacta usando el intervalo para rkf4\n",
        "exacta_rkf5 = (2*ts_rkf5 + 1)/((ts_rkf5)**2 + 1) #Solución exacta usando el intervalo para rkf5\n",
        "plt.loglog(ts_rkf4, abs(sol_rkf4 - exacta_rkf4), label='rkf4')\n",
        "plt.loglog(ts_rkf5, abs(sol_rkf5 - exacta_rkf5), label='rkf5')\n",
        "plt.legend()\n",
        "plt.show()\n",
        "\n",
        "print(f'Para la solución de orden 4 se necesitaron {ev4} evaluaciones')\n",
        "print(f'Para la solución de orden 5 se necesitaron {ev5} evaluaciones')"
      ],
      "metadata": {
        "colab": {
          "base_uri": "https://localhost:8080/",
          "height": 469
        },
        "id": "PAug0XNIlz2T",
        "outputId": "da49951c-5941-46eb-868b-e98d8f8b6330"
      },
      "execution_count": 27,
      "outputs": [
        {
          "output_type": "display_data",
          "data": {
            "text/plain": [
              "<Figure size 640x480 with 1 Axes>"
            ],
            "image/png": "[encoded data removed]"
          },
          "metadata": {}
        },
        {
          "output_type": "stream",
          "name": "stdout",
          "text": [
            "Para la solución de orden 4 se necesitaron 102 evaluaciones\n",
            "Para la solución de orden 5 se necesitaron 102 evaluaciones\n"
          ]
        }
      ]
    },
    {
      "cell_type": "markdown",
      "metadata": {
        "id": "LAPAmpCAWpvS"
      },
      "source": [
        "En el gráfico vemos que la solución de orden 4 es más precisa que el de orden 5. Por esta razón es preferible usar el método Runge-Kutta-Fehlberg de orden 4."
      ]
    }
  ]
}